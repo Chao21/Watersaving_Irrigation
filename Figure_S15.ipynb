{
 "cells": [
  {
   "cell_type": "markdown",
   "metadata": {},
   "source": [
    "2025.05.12, Zhang Chao"
   ]
  },
  {
   "cell_type": "code",
   "execution_count": 1,
   "metadata": {},
   "outputs": [],
   "source": [
    "import pandas as pd\n",
    "import xarray as xr\n",
    "import regionmask\n",
    "import geopandas as gpd\n",
    "import matplotlib.pyplot as plt\n",
    "import os\n",
    "import sys\n",
    "sys.path.append('/home/climate/chaoz/code/utils/')\n",
    "from plot_utils import plot_settings"
   ]
  },
  {
   "cell_type": "code",
   "execution_count": 2,
   "metadata": {},
   "outputs": [],
   "source": [
    "os.chdir('/home/climate/chaoz/project/03Irr_Ts_CN/processed/')\n",
    "dLE_base = xr.open_dataset('delta_LE_PMLv2_Yr_CN_2015_IrrMap_CN.nc').squeeze(dim='time')\n",
    "dLE_meier = xr.open_dataset('delta_LE_PMLv2_Yr_CN_2015_IrrmapMeier.nc').squeeze(dim='time')\n",
    "dLST_base = xr.open_dataset('delta_LSTday_Yr_CN_2001_2020.nc').sel(time=slice('2015','2015')).squeeze(dim='time')\n",
    "dLST_meier = xr.open_dataset('delta_LSTday_Yr_CN_2015_IrrmapMeier.nc').squeeze(dim='time')\n",
    "\n",
    "shp_climzone = gpd.read_file('../shapefile/ClimateZone_3.shp')"
   ]
  },
  {
   "cell_type": "code",
   "execution_count": 3,
   "metadata": {},
   "outputs": [],
   "source": [
    "def stats_regionmean_std(ds, varname, shp):\n",
    "    # Ensure we are working with the specific variable DataArray\n",
    "    da = ds[varname]\n",
    "\n",
    "    # --- National Calculation ---\n",
    "    # Count non-null values for the specific variable nationally\n",
    "    national_count = da.notnull().sum().item()\n",
    "    # Calculate national mean\n",
    "    cn_mean = da.mean(dim=('lat', 'lon')).item()\n",
    "    # Calculate national standard deviation\n",
    "    cn_std_dev = da.std(dim=('lat', 'lon')).item()\n",
    "\n",
    "    # --- Regional Calculation ---\n",
    "    # Create the region mask\n",
    "    mask_region = regionmask.mask_geopandas(shp, da.lon, da.lat)\n",
    "\n",
    "    # Calculate regional means\n",
    "    region_mean = da.groupby(mask_region).mean()\n",
    "    # Calculate regional standard deviations\n",
    "    region_std_dev = da.groupby(mask_region).std()\n",
    "\n",
    "    # Convert regional results to DataFrames\n",
    "    region_mean_df = region_mean.to_dataframe(name='mean').reset_index()\n",
    "    # Use the calculated regional_std directly\n",
    "    region_std_df = region_std_dev.to_dataframe(name='std').reset_index()\n",
    "\n",
    "    if 'name' in shp.columns: # Example: if shp has a 'name' column\n",
    "         mask_mapping = {i: name for i, name in enumerate(shp['name'])}\n",
    "    else: # Fallback to your original mapping if no name column\n",
    "        mask_mapping = {1.0:'Arid', 2.0:'Semi', 0.0:'Humid'}\n",
    "        print(\"Warning: Using default mask mapping. Verify it matches your shapefile regions.\")\n",
    "\n",
    "\n",
    "    region_mean_df['mask'] = region_mean_df['mask'].replace(mask_mapping)\n",
    "    region_std_df['mask'] = region_std_df['mask'].replace(mask_mapping)\n",
    "\n",
    "    # --- Combine Results ---\n",
    "    # Merge regional mean and std based on the mask name\n",
    "    df1 = pd.merge(region_mean_df[['mask', 'mean']],\n",
    "                   region_std_df[['mask', 'std']],\n",
    "                   on='mask')\n",
    "\n",
    "    # Create DataFrame for national results\n",
    "    df2 = pd.DataFrame({'mask': ['China'], # Assuming 'China' is the national label\n",
    "                        'mean': [cn_mean],\n",
    "                        'std': [cn_std_dev]})\n",
    "\n",
    "    # Concatenate regional and national results\n",
    "    df3 = pd.concat([df1, df2], axis=0, ignore_index=True).set_index('mask')\n",
    "\n",
    "    # Reindex to desired order (ensure region names match those from mask_mapping)\n",
    "    # Get the region names from the mapping used\n",
    "    region_order = ['China'] + list(mask_mapping.values())\n",
    "    # Filter df3 index to only include expected regions before reindexing\n",
    "    df3 = df3[df3.index.isin(region_order)]\n",
    "    df3 = df3.reindex(region_order) # Use the actual region names\n",
    "\n",
    "    return df3\n"
   ]
  },
  {
   "cell_type": "code",
   "execution_count": null,
   "metadata": {},
   "outputs": [],
   "source": [
    "df_LSTbase  = stats_regionmean_std(dLST_base,'Ts',shp_climzone)\n",
    "df_LSTmeier = stats_regionmean_std(dLST_meier,'Ts',shp_climzone)\n",
    "df_LEbase   = stats_regionmean_std(dLE_base,'LE',shp_climzone)\n",
    "df_LEmeier  = stats_regionmean_std(dLE_meier,'LE',shp_climzone)"
   ]
  },
  {
   "cell_type": "code",
   "execution_count": 5,
   "metadata": {},
   "outputs": [],
   "source": [
    "def plot_bars(ax,mean,std,no,ylim,ylabel):\n",
    "    ax.set_ylim(ylim)\n",
    "    ax.axhline(0, 0, 10, color='k',linestyle='--',linewidth=0.8)\n",
    "    colors = ['gray','#FFA726','#33A02C','#1E88E5']\n",
    "    err_attri = dict(elinewidth=.8, ecolor='k', capsize=4,alpha=0.5)\n",
    "    ax.bar(range(1,len(mean)+1),mean,yerr=std,color=colors,error_kw=err_attri)\n",
    "    ax.text(-0.05,1.05,no,weight='bold',transform=ax.transAxes,fontsize=14)\n",
    "    ax.set_ylabel(ylabel)\n",
    "    ax.set_xticks([1,2,3,4],['China','Arid','Semi','Humid'])\n",
    "    ax.spines['top'].set_visible(False)\n",
    "    ax.spines['right'].set_visible(False)\n",
    "    return ax"
   ]
  },
  {
   "cell_type": "code",
   "execution_count": null,
   "metadata": {},
   "outputs": [],
   "source": [
    "fig, axes = plt.subplots(nrows=2,ncols=2,figsize=(9,6),sharex=False)\n",
    "fig.subplots_adjust(left = 0.07, right = 0.99,\n",
    "                    bottom = 0.05, top = 0.96,\n",
    "                    wspace= 0.12, hspace=0.25)\n",
    "plot_settings()\n",
    "ylim1,ylim2 = [-5,1.1],[-0.19,0.79]\n",
    "ylabel1,ylabel2 = '$\\Delta$LST_Day [K]','$\\Delta$ET [mm/day]'\n",
    "plot_bars(axes[0,0],df_LSTbase['mean'] ,df_LSTbase['std'] ,'a',ylim1,ylabel1)\n",
    "plot_bars(axes[0,1],df_LSTmeier['mean'],df_LSTmeier['std'],'b',ylim1,'')\n",
    "plot_bars(axes[1,0],df_LEbase['mean']  ,df_LEbase['std']  ,'c',ylim2,ylabel2)\n",
    "plot_bars(axes[1,1],df_LEmeier['mean'] ,df_LEmeier['std'] ,'d',ylim2,'')\n",
    "\n",
    "plt.savefig('../figures/Figure_S15.png',dpi=300)"
   ]
  }
 ],
 "metadata": {
  "kernelspec": {
   "display_name": "py39",
   "language": "python",
   "name": "python3"
  },
  "language_info": {
   "codemirror_mode": {
    "name": "ipython",
    "version": 3
   },
   "file_extension": ".py",
   "mimetype": "text/x-python",
   "name": "python",
   "nbconvert_exporter": "python",
   "pygments_lexer": "ipython3",
   "version": "3.10.16"
  }
 },
 "nbformat": 4,
 "nbformat_minor": 2
}
