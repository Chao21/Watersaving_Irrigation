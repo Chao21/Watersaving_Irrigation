{
 "cells": [
  {
   "cell_type": "markdown",
   "metadata": {},
   "source": [
    "Zhang Chao, 2025.04.25<br>\n",
    "Three components of ET changes"
   ]
  },
  {
   "cell_type": "code",
   "execution_count": 1,
   "metadata": {},
   "outputs": [],
   "source": [
    "import pandas as pd\n",
    "import numpy as np\n",
    "import xarray as xr\n",
    "import regionmask\n",
    "import matplotlib.pyplot as plt\n",
    "import geopandas as gpd\n",
    "import os\n",
    "import sys\n",
    "import scipy\n",
    "import seaborn as sns\n",
    "from matplotlib.colors import Normalize\n",
    "import cartopy.io.shapereader as shpreader\n",
    "import matplotlib.colors as mcolors\n",
    "sys.path.append(os.path.abspath(os.path.join(os.getcwd(), '../../')))\n",
    "from utils import getSigFlag, stats_regionmean\n",
    "sys.path.append('/home/climate/chaoz/code/utils/')\n",
    "from plot_utils import plot_settings"
   ]
  },
  {
   "cell_type": "code",
   "execution_count": 2,
   "metadata": {},
   "outputs": [],
   "source": [
    "os.chdir('/home/climate/chaoz/project/03Irr_Ts_CN/processed/')\n",
    "\n",
    "dLE = xr.open_dataset('delta_LE_Yr_CN_2001_2020_PMLv2.nc')\n",
    "dEVI = xr.open_dataset('delta_EVI_Yr_CN_2001_2020.nc')\n",
    "\n",
    "shp_cn = gpd.read_file('../shapefile/ChinaAll.shp')\n",
    "shp_nanhai = gpd.read_file('../shapefile/Nanhai.shp')\n",
    "shp_climzone = gpd.read_file('../shapefile/ClimateZone_3.shp')"
   ]
  },
  {
   "cell_type": "code",
   "execution_count": 3,
   "metadata": {},
   "outputs": [],
   "source": [
    "df_dLE = stats_regionmean(dLE,'LE',shp_climzone)\n",
    "df_dEVI = stats_regionmean(dEVI,'EVI',shp_climzone)"
   ]
  },
  {
   "cell_type": "code",
   "execution_count": 4,
   "metadata": {},
   "outputs": [],
   "source": [
    "def plot_curves(ax,y,color,xticklabels,title,no):\n",
    "    x = range(0,y.shape[0])\n",
    "    ax.plot(x,y,color=color)\n",
    "    parameter = np.polyfit(x, y, 1)\n",
    "    f = np.poly1d(parameter)\n",
    "    r, sig = scipy.stats.pearsonr(x, y)\n",
    "    ax.plot(x, f(x), ls='--', c=color)\n",
    "    ax.text(0.10,0.90, \"slope = %.2f$^{%s}$\" %\n",
    "             (parameter[0]*10, getSigFlag(sig)),\n",
    "             transform=ax.transAxes, c= 'k',fontsize=12)\n",
    "    ax.spines['top'].set_visible(False)\n",
    "    ax.spines['right'].set_visible(False)\n",
    "    ax.set_xticks([4,14],xticklabels)\n",
    "\n",
    "    ax.set_title(title)\n",
    "    ax.text(-0.1,1.01,no,transform=ax.transAxes,fontsize=14,weight='bold')\n",
    "    \n",
    "    \n",
    "def drawScatterPlots(fig,axpos,x,y,no):\n",
    "    ax=fig.add_axes(axpos)\n",
    "    sns.regplot(x=x, y=y,ax=ax,marker='o',color='k',label='Daytime',\n",
    "                line_kws = {'linewidth':2},scatter_kws={'s':12})\n",
    "    parameter = np.polyfit(x,y,1)\n",
    "    f = np.poly1d(parameter)\n",
    "    r, sig = scipy.stats.pearsonr(x, y)\n",
    "    ax.text(0.08, 0.90, \"R\\u00b2 = \",transform=ax.transAxes,fontsize=12)\n",
    "    # ax.text(0.55, 0.90, \",\", transform=ax.transAxes,fontsize=12)\n",
    "    ax.text(0.28, 0.90, \"%.2f$^{%s}$\" % (r * r, getSigFlag(sig)),\n",
    "             transform=ax.transAxes, c='k',fontsize=12)\n",
    "\n",
    "    ax.text(-0.1,1.01,no,transform=ax.transAxes,fontsize=14,weight='bold')\n",
    "    \n",
    "    ax.set_ylabel('')\n",
    "    ax.set_xlabel('$\\Delta$EVI')\n",
    "    \n",
    "    ax.spines['top'].set_visible(False)\n",
    "    ax.spines['right'].set_visible(False)"
   ]
  },
  {
   "cell_type": "code",
   "execution_count": null,
   "metadata": {},
   "outputs": [],
   "source": [
    "fig, axes = plt.subplots(nrows=3,ncols=4,figsize=(10,6.5),sharex=False)\n",
    "plot_settings()\n",
    "x = range(0,df_dLE.shape[0])\n",
    "colors = ['g','#1a8076','k']\n",
    "titles =['China','Arid','Semi-arid/humid','Humid']\n",
    "titles2=['','','','']\n",
    "\n",
    "Nos = ['a','b','c','d','e','f','g','h','i','j','k','l']\n",
    "for i in range(4):\n",
    "    plot_curves(axes[0,i],df_dEVI.iloc[:,i+1]*1000,colors[0],['2005','2015'],titles[i],Nos[i])\n",
    "    plot_curves(axes[1,i],df_dLE.iloc[:,i+1],colors[1],['2005','2015'],titles2[i],Nos[4+i])\n",
    "    drawScatterPlots(fig,axes[2,i],df_dEVI.iloc[:,i+1]*1000,df_dLE.iloc[:,i+1],Nos[8+i])\n",
    "\n",
    "axes[0,0].set_ylabel('$\\Delta$EVI')\n",
    "axes[1,0].set_ylabel('$\\Delta$LE [W/m$^{2}$]')\n",
    "axes[2,0].set_ylabel('$\\Delta$LE [W/m$^{2}$]')\n",
    "\n",
    "\n",
    "plt.tight_layout()\n",
    "plt.savefig('../figures/Figure_S05.png',dpi=300)"
   ]
  }
 ],
 "metadata": {
  "kernelspec": {
   "display_name": "py39",
   "language": "python",
   "name": "python3"
  },
  "language_info": {
   "codemirror_mode": {
    "name": "ipython",
    "version": 3
   },
   "file_extension": ".py",
   "mimetype": "text/x-python",
   "name": "python",
   "nbconvert_exporter": "python",
   "pygments_lexer": "ipython3",
   "version": "3.10.16"
  }
 },
 "nbformat": 4,
 "nbformat_minor": 2
}
