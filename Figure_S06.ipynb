{
 "cells": [
  {
   "cell_type": "markdown",
   "metadata": {},
   "source": [
    "Zhang Chao, 2025.04.25<br>\n",
    "Three components of ET changes"
   ]
  },
  {
   "cell_type": "code",
   "execution_count": 1,
   "metadata": {},
   "outputs": [],
   "source": [
    "import pandas as pd\n",
    "import numpy as np\n",
    "import xarray as xr\n",
    "import regionmask\n",
    "import matplotlib.pyplot as plt\n",
    "import geopandas as gpd\n",
    "import os\n",
    "import sys\n",
    "import scipy\n",
    "from matplotlib.colors import Normalize\n",
    "import cartopy.io.shapereader as shpreader\n",
    "import matplotlib.colors as mcolors\n",
    "sys.path.append(os.path.abspath(os.path.join(os.getcwd(), '../../')))\n",
    "from utils import getSigFlag, stats_regionmean\n",
    "sys.path.append('/home/climate/chaoz/code/utils/')\n",
    "from plot_utils import plot_settings"
   ]
  },
  {
   "cell_type": "code",
   "execution_count": 2,
   "metadata": {},
   "outputs": [],
   "source": [
    "os.chdir('/home/climate/chaoz/project/03Irr_Ts_CN/processed/')\n",
    "Ir = xr.open_dataset('IrrMap_stable_CN.nc')\n",
    "ET = xr.open_dataset('ET_PMLv2_Yrmean_1km_CN_2001_2020.nc').where(Ir.Ir==1)\n",
    "\n",
    "shp_cn = gpd.read_file('../shapefile/ChinaAll.shp')\n",
    "shp_nanhai = gpd.read_file('../shapefile/Nanhai.shp')\n",
    "shp_climzone = gpd.read_file('../shapefile/ClimateZone_3.shp')"
   ]
  },
  {
   "cell_type": "code",
   "execution_count": 3,
   "metadata": {},
   "outputs": [],
   "source": [
    "df_Ec = stats_regionmean(ET,'Ec',shp_climzone)\n",
    "df_Ei = stats_regionmean(ET,'Ei',shp_climzone)\n",
    "df_Es = stats_regionmean(ET,'Es',shp_climzone)"
   ]
  },
  {
   "cell_type": "code",
   "execution_count": 4,
   "metadata": {},
   "outputs": [],
   "source": [
    "def plot_regionwater(ax,data,ylim,yticks,xlabelFlag,ytickflag,color,No):\n",
    "    x = range(2001, 2021)\n",
    "    y = data\n",
    "\n",
    "    ###\n",
    "    ax.plot(x, y, c=color)\n",
    "\n",
    "    ax.set_ylabel('')\n",
    "    ax.set_xlim(2000,2021)\n",
    "    \n",
    "    parameter = np.polyfit(x, y, 1)\n",
    "    f = np.poly1d(parameter)\n",
    "    r, sig = scipy.stats.pearsonr(x, y)\n",
    "    ax.plot(x, f(x), ls='--', c=color)\n",
    "    ax.text(-0.12,1.05, No, transform=ax.transAxes, c='k',\n",
    "             weight='bold',fontsize=14)  # ,style='italic'\n",
    "    \n",
    "    ax.set_ylim(ylim)\n",
    "    if xlabelFlag == True:\n",
    "        ax.set_xticks([2005,2015], [2005,2015])\n",
    "    else:\n",
    "        ax.set_xticks([2005,2015], [])\n",
    "        \n",
    "    if ytickflag:\n",
    "        ax.set_yticks(yticks,yticks)\n",
    "    else:\n",
    "        ax.set_yticks(yticks,[])\n",
    "        \n",
    "    ax.text(0.10, 0.90, \"slope = %.2f$^{%s}$\" %\n",
    "             (parameter[0] * 10, getSigFlag(sig)),\n",
    "             transform=ax.transAxes, c='k',fontsize=12)\n",
    "    ax.spines['top'].set_visible(False)\n",
    "    ax.spines['right'].set_visible(False)\n",
    "    \n",
    "    return ax"
   ]
  },
  {
   "cell_type": "code",
   "execution_count": null,
   "metadata": {},
   "outputs": [],
   "source": [
    "fig, axes = plt.subplots(nrows=3,ncols=4,figsize=(9,5),sharex=True)\n",
    "plt.rcParams['xtick.direction'] = 'in'\n",
    "plt.rcParams['ytick.direction'] = 'in'\n",
    "plot_settings()\n",
    "x = range(0,df_Ec.shape[0])\n",
    "colors = ['#4EAB90','#457B9D','#834026']\n",
    "d=365\n",
    "yticks1=[100,200,300,400,500]\n",
    "yticks2=[0,10,20,30,40]\n",
    "yticks3=[100,150,200,250,300]\n",
    "ylim1,ylim2,ylim3 = [100,510],[0,45],[80,310]\n",
    "colors = ['#4EAB90','#457B9D','#834026']\n",
    "\n",
    "plot_regionwater(axes[0,0],df_Ec.iloc[:,0+1]*d,ylim1,yticks1,False,True,colors[0],'a')\n",
    "plot_regionwater(axes[0,1],df_Ec.iloc[:,1+1]*d,ylim1,yticks1,False,False,colors[0],'b')\n",
    "plot_regionwater(axes[0,2],df_Ec.iloc[:,2+1]*d,ylim1,yticks1,False,False,colors[0],'c')\n",
    "plot_regionwater(axes[0,3],df_Ec.iloc[:,3+1]*d,ylim1,yticks1,False,False,colors[0],'d')\n",
    "\n",
    "plot_regionwater(axes[1,0],df_Ei.iloc[:,0+1]*d,ylim2,yticks2,False,True,colors[1],'e')\n",
    "plot_regionwater(axes[1,1],df_Ei.iloc[:,1+1]*d,ylim2,yticks2,False,False,colors[1],'f')\n",
    "plot_regionwater(axes[1,2],df_Ei.iloc[:,2+1]*d,ylim2,yticks2,False,False,colors[1],'g')\n",
    "plot_regionwater(axes[1,3],df_Ei.iloc[:,3+1]*d,ylim2,yticks2,False,False,colors[1],'h')\n",
    "\n",
    "plot_regionwater(axes[2,0],df_Es.iloc[:,0+1]*d,ylim3,yticks3,True,True,colors[2],'i')\n",
    "plot_regionwater(axes[2,1],df_Es.iloc[:,1+1]*d,ylim3,yticks3,True,False,colors[2],'j')\n",
    "plot_regionwater(axes[2,2],df_Es.iloc[:,2+1]*d,ylim3,yticks3,True,False,colors[2],'k')\n",
    "plot_regionwater(axes[2,3],df_Es.iloc[:,3+1]*d,ylim3,yticks3,True,False,colors[2],'l')\n",
    "\n",
    "axes[0,0].set_ylabel('Ec [mm]')\n",
    "axes[1,0].set_ylabel('Ei [mm]')\n",
    "axes[2,0].set_ylabel('Es [mm]')\n",
    "\n",
    "axes[0,0].set_title('China')\n",
    "axes[0,1].set_title('Arid')\n",
    "axes[0,2].set_title('Semi arid/humid')\n",
    "axes[0,3].set_title('Humid')\n",
    "\n",
    "plt.tight_layout()\n",
    "plt.savefig('../figures/Figure_S06.png',dpi=300)"
   ]
  }
 ],
 "metadata": {
  "kernelspec": {
   "display_name": "py39",
   "language": "python",
   "name": "python3"
  },
  "language_info": {
   "codemirror_mode": {
    "name": "ipython",
    "version": 3
   },
   "file_extension": ".py",
   "mimetype": "text/x-python",
   "name": "python",
   "nbconvert_exporter": "python",
   "pygments_lexer": "ipython3",
   "version": "3.10.16"
  }
 },
 "nbformat": 4,
 "nbformat_minor": 2
}
