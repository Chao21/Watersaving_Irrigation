{
 "cells": [
  {
   "cell_type": "markdown",
   "metadata": {},
   "source": [
    "2025.05.12, Zhang Chao"
   ]
  },
  {
   "cell_type": "code",
   "execution_count": 1,
   "metadata": {},
   "outputs": [],
   "source": [
    "import pandas as pd\n",
    "import numpy as np\n",
    "import xarray as xr\n",
    "import matplotlib.pyplot as plt\n",
    "import os\n",
    "import sys\n",
    "import scipy\n",
    "sys.path.append('/home/climate/chaoz/code/utils/')\n",
    "from plot_utils import plot_settings\n"
   ]
  },
  {
   "cell_type": "code",
   "execution_count": 2,
   "metadata": {},
   "outputs": [],
   "source": [
    "os.chdir('/home/climate/chaoz/project/03Irr_Ts_CN/processed/')\n",
    "dLST_win21 = xr.open_dataset('delta_LSTday_Yr_CN_2001_2020_win21.nc').sel(time=slice('2010','2010'))\n",
    "dLST_win31 = xr.open_dataset('delta_LSTday_Yr_CN_2001_2020.nc').sel(time=slice('2010','2010'))\n",
    "dLST_win41 = xr.open_dataset('delta_LSTday_Yr_CN_2001_2020_win41.nc').sel(time=slice('2010','2010'))\n"
   ]
  },
  {
   "cell_type": "code",
   "execution_count": 3,
   "metadata": {},
   "outputs": [],
   "source": [
    "ds = xr.merge([dLST_win21.squeeze('time').rename({'Ts': 'T21'}).T21,\n",
    "               dLST_win31.squeeze('time').rename({'Ts': 'T31'}).T31,\n",
    "               dLST_win41.squeeze('time').rename({'Ts': 'T41'}).T41])\n",
    "\n",
    "df = ds.to_dataframe().reset_index().dropna().drop(columns=['time','lat','lon'])"
   ]
  },
  {
   "cell_type": "code",
   "execution_count": 4,
   "metadata": {},
   "outputs": [],
   "source": [
    "def getSigFlag(p):\n",
    "    \"\"\"Get the significance sign (star)\n",
    "\n",
    "    Args:\n",
    "        p (float32): p-value\n",
    "\n",
    "    Returns:\n",
    "        str: significance sign\n",
    "    \"\"\"\n",
    "    strSig = ''\n",
    "    if p<0.05:\n",
    "        strSig = '**'\n",
    "    elif p<0.1:\n",
    "        strSig = '*'\n",
    "    else:\n",
    "        strSig = ''\n",
    "    return strSig\n",
    "\n",
    "\n",
    "def plot_scatter(ax,x,y,xlabel,ylabel):\n",
    "    ax.scatter(x,y,color='grey',alpha=0.3,s=0.8)\n",
    "    parameter = np.polyfit(x, y, 1)\n",
    "    f = np.poly1d(parameter)\n",
    "    r, sig = scipy.stats.pearsonr(x, y)\n",
    "    newx=np.linspace(np.min(x),np.max(x),20)\n",
    "    ax.plot(newx, f(newx), ls='--', c='k')\n",
    "    ax.text(0.10,0.80, \"slope = %.2f\\nR$^{2}$=%.2f$^{%s}$\" %\n",
    "             (parameter[0],r*r,getSigFlag(sig)),\n",
    "             transform=ax.transAxes, c= 'k',fontsize=12)\n",
    "    ax.spines['top'].set_visible(False)\n",
    "    ax.spines['right'].set_visible(False)\n",
    "    ax.set_xlabel(xlabel)\n",
    "    ax.set_ylabel(ylabel)\n",
    "    return ax\n"
   ]
  },
  {
   "cell_type": "code",
   "execution_count": null,
   "metadata": {},
   "outputs": [],
   "source": [
    "fig, axes = plt.subplots(nrows=1,ncols=2,figsize=(8,3),sharex=False)\n",
    "plot_settings()\n",
    "fig.subplots_adjust(left = 0.08, right = 0.99,\n",
    "                    bottom = 0.15, top = 0.99,\n",
    "                    wspace= 0.2, hspace=0.05)\n",
    "plot_scatter(axes[0],df['T31'],df['T21'],'$\\Delta$LST_win31 [K]','$\\Delta$LST_win21 [K]')\n",
    "plot_scatter(axes[1],df['T31'],df['T41'],'$\\Delta$LST_win31 [K]','$\\Delta$LST_win41 [K]')\n",
    "\n",
    "plt.savefig('../figures/Figure_S12.png',dpi=300)"
   ]
  }
 ],
 "metadata": {
  "kernelspec": {
   "display_name": "py39",
   "language": "python",
   "name": "python3"
  },
  "language_info": {
   "codemirror_mode": {
    "name": "ipython",
    "version": 3
   },
   "file_extension": ".py",
   "mimetype": "text/x-python",
   "name": "python",
   "nbconvert_exporter": "python",
   "pygments_lexer": "ipython3",
   "version": "3.10.16"
  }
 },
 "nbformat": 4,
 "nbformat_minor": 2
}
