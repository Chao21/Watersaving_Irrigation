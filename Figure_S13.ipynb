{
 "cells": [
  {
   "cell_type": "markdown",
   "metadata": {},
   "source": [
    "2025.05.12, Zhang Chao"
   ]
  },
  {
   "cell_type": "code",
   "execution_count": 1,
   "metadata": {},
   "outputs": [],
   "source": [
    "import numpy as np\n",
    "import xarray as xr\n",
    "import matplotlib.pyplot as plt\n",
    "import os\n",
    "import sys\n",
    "import scipy\n",
    "sys.path.append('/home/climate/chaoz/code/utils/')\n",
    "from plot_utils import plot_settings\n"
   ]
  },
  {
   "cell_type": "code",
   "execution_count": 2,
   "metadata": {},
   "outputs": [],
   "source": [
    "os.chdir('/home/climate/chaoz/project/03Irr_Ts_CN/processed/')\n",
    "dLST_N10 = xr.open_dataset('delta_LSTday_Yr_CN_2001_2020.nc').sel(time=slice('2010','2010'))\n",
    "dLST_N15 = xr.open_dataset('delta_LSTday_Yr_CN_2001_2020_N15.nc').sel(time=slice('2010','2010'))\n",
    "dLST_N20 = xr.open_dataset('delta_LSTday_Yr_CN_2001_2020_N20.nc').sel(time=slice('2010','2010'))\n",
    "dLST_N25 = xr.open_dataset('delta_LSTday_Yr_CN_2001_2020_N25.nc').sel(time=slice('2010','2010'))\n",
    "dLST_E100 = xr.open_dataset('delta_LSTday_Yr_CN_2001_2020.nc').sel(time=slice('2010','2010'))\n",
    "dLST_E60 = xr.open_dataset('delta_LSTday_Yr_CN_2001_2020_E60.nc').sel(time=slice('2010','2010'))\n",
    "dLST_E80 = xr.open_dataset('delta_LSTday_Yr_CN_2001_2020_E80.nc').sel(time=slice('2010','2010'))\n",
    "dLST_E120 = xr.open_dataset('delta_LSTday_Yr_CN_2001_2020_E120.nc').sel(time=slice('2010','2010'))"
   ]
  },
  {
   "cell_type": "code",
   "execution_count": 3,
   "metadata": {},
   "outputs": [],
   "source": [
    "ds_N = xr.merge([dLST_N10.squeeze('time').rename({'Ts': 'N10'}).N10,\n",
    "                 dLST_N15.squeeze('time').rename({'Ts': 'N15'}).N15,\n",
    "                 dLST_N20.squeeze('time').rename({'Ts': 'N20'}).N20,\n",
    "                 dLST_N25.squeeze('time').rename({'Ts': 'N25'}).N25])\n",
    "ds_E = xr.merge([dLST_E100.squeeze('time').rename({'Ts': 'E100'}).E100,\n",
    "                 dLST_E120.squeeze('time').rename({'Ts': 'E120'}).E120,\n",
    "                 dLST_E60.squeeze('time').rename({'Ts': 'E60'}).E60,\n",
    "                 dLST_E80.squeeze('time').rename({'Ts': 'E80'}).E80])\n",
    "\n",
    "df_N = ds_N.to_dataframe().reset_index().dropna().drop(columns=['time','lat','lon'])\n",
    "df_E = ds_E.to_dataframe().reset_index().dropna().drop(columns=['time','lat','lon'])"
   ]
  },
  {
   "cell_type": "code",
   "execution_count": 4,
   "metadata": {},
   "outputs": [],
   "source": [
    "def getSigFlag(p):\n",
    "    \"\"\"Get the significance sign (star)\n",
    "\n",
    "    Args:\n",
    "        p (float32): p-value\n",
    "\n",
    "    Returns:\n",
    "        str: significance sign\n",
    "    \"\"\"\n",
    "    strSig = ''\n",
    "    if p<0.05:\n",
    "        strSig = '**'\n",
    "    elif p<0.1:\n",
    "        strSig = '*'\n",
    "    else:\n",
    "        strSig = ''\n",
    "    return strSig\n",
    "\n",
    "\n",
    "def plot_curves(ax,x,y,xlabel,ylabel):\n",
    "    ax.scatter(x,y,color='grey',alpha=0.3,s=0.8)\n",
    "    parameter = np.polyfit(x, y, 1)\n",
    "    f = np.poly1d(parameter)\n",
    "    r, sig = scipy.stats.pearsonr(x, y)\n",
    "    newx=np.linspace(np.min(x),np.max(x),20)\n",
    "    ax.plot(newx, f(newx), ls='--', c='k')\n",
    "    ax.text(0.10,0.80, \"slope = %.2f\\nR$^{2}$=%.2f$^{%s}$\" %\n",
    "             (parameter[0],r*r,getSigFlag(sig)),\n",
    "             transform=ax.transAxes, c= 'k',fontsize=12)\n",
    "    ax.spines['top'].set_visible(False)\n",
    "    ax.spines['right'].set_visible(False)\n",
    "    ax.set_xlabel(xlabel)\n",
    "    ax.set_ylabel(ylabel)\n",
    "    return ax\n"
   ]
  },
  {
   "cell_type": "code",
   "execution_count": null,
   "metadata": {},
   "outputs": [],
   "source": [
    "fig, axes = plt.subplots(nrows=2,ncols=3,figsize=(9,6),sharex=False)\n",
    "plot_settings()\n",
    "fig.subplots_adjust(left = 0.07, right = 0.99,\n",
    "                    bottom = 0.08, top = 0.99,\n",
    "                    wspace= 0.2, hspace=0.25)\n",
    "plot_curves(axes[0,0],df_N['N15'],df_N['N10']  ,'$\\Delta$LST_N15 [K]','$\\Delta$LST_N10 [K]')\n",
    "plot_curves(axes[0,1],df_N['N20'],df_N['N10']  ,'$\\Delta$LST_N15 [K]','')\n",
    "plot_curves(axes[0,2],df_N['N25'],df_N['N10']  ,'$\\Delta$LST_N25 [K]','')\n",
    "plot_curves(axes[1,0],df_E['E60'],df_E['E100'] ,'$\\Delta$LST_E60 [K]','$\\Delta$LST_E100 [K]')\n",
    "plot_curves(axes[1,1],df_E['E80'],df_E['E100'] ,'$\\Delta$LST_E80 [K]','')\n",
    "plot_curves(axes[1,2],df_E['E120'],df_E['E100'],'$\\Delta$LST_E120 [K]','')\n",
    "\n",
    "plt.savefig('../figures/Figure_S13.png',dpi=300)"
   ]
  }
 ],
 "metadata": {
  "kernelspec": {
   "display_name": "py39",
   "language": "python",
   "name": "python3"
  },
  "language_info": {
   "codemirror_mode": {
    "name": "ipython",
    "version": 3
   },
   "file_extension": ".py",
   "mimetype": "text/x-python",
   "name": "python",
   "nbconvert_exporter": "python",
   "pygments_lexer": "ipython3",
   "version": "3.10.16"
  }
 },
 "nbformat": 4,
 "nbformat_minor": 2
}
