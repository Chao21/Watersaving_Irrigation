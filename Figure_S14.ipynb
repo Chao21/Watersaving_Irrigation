{
 "cells": [
  {
   "cell_type": "markdown",
   "metadata": {},
   "source": [
    "2025.05.12, Zhang Chao"
   ]
  },
  {
   "cell_type": "code",
   "execution_count": 1,
   "metadata": {},
   "outputs": [],
   "source": [
    "import pandas as pd\n",
    "import matplotlib.pyplot as plt\n",
    "import os\n",
    "import sys\n",
    "sys.path.append('/home/climate/chaoz/code/utils/')\n",
    "from plot_utils import plot_settings"
   ]
  },
  {
   "cell_type": "code",
   "execution_count": null,
   "metadata": {},
   "outputs": [],
   "source": [
    "os.chdir('/home/climate/chaoz/project/03Irr_Ts_CN/processed/')\n",
    "df = pd.read_csv('statwinsize.csv')\n",
    "\n",
    "num = len(df)\n",
    "freq_31 = len(df[df['size']<32])/num\n",
    "print(len(df[df['size']<32]))\n",
    "df['bin'] = pd.cut(df['size'],[30,31,40,50,60,100],labels=[31,40,50,60,70])\n",
    "bins = df['bin'].groupby(df['bin']).describe()\n",
    "print(bins)\n",
    "x = [1,2,3,4,5]\n",
    "\n",
    "fig= plt.figure(figsize=(6,4))#dpi=100, default dpi\n",
    "plot_settings()\n",
    "fig.subplots_adjust(left = 0.11, right = 0.99,\n",
    "                    bottom = 0.13, top = 0.99,\n",
    "                    wspace= 0.2, hspace=0.05)\n",
    "ax1 = plt.subplot(111)\n",
    "rect = plt.bar(x,bins['freq']/num,width=.7)\n",
    "print(rect[0])\n",
    "plt.xticks(x,['31','(31,40]','(40,50]','(50,60]','(60,101]'])\n",
    "plt.yticks([0,0.2,0.4,0.6,0.8,1.0],[0,20,40,60,80,100])\n",
    "plt.ylabel('Frequency [%]')\n",
    "plt.xlabel('Window size')\n",
    "plt.ylim(0,1.03)\n",
    "for m,n in zip(x,bins['freq']/num):\n",
    "    print(m,n)\n",
    "    plt.text(m,n,\"%.1f\" % (n*100), ha='center',va = 'bottom',fontsize=12)\n",
    "\n",
    "\n",
    "plt.savefig('../figures/Figure_S14.png',dpi=300)"
   ]
  }
 ],
 "metadata": {
  "kernelspec": {
   "display_name": "py39",
   "language": "python",
   "name": "python3"
  },
  "language_info": {
   "codemirror_mode": {
    "name": "ipython",
    "version": 3
   },
   "file_extension": ".py",
   "mimetype": "text/x-python",
   "name": "python",
   "nbconvert_exporter": "python",
   "pygments_lexer": "ipython3",
   "version": "3.10.16"
  }
 },
 "nbformat": 4,
 "nbformat_minor": 2
}
