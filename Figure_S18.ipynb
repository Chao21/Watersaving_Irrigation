{
 "cells": [
  {
   "cell_type": "markdown",
   "metadata": {},
   "source": [
    "Zhang Chao, 2025/04/03<br>\n",
    "Contribution of environmental factors to the cooling trends<br>"
   ]
  },
  {
   "cell_type": "code",
   "execution_count": 1,
   "metadata": {},
   "outputs": [],
   "source": [
    "import statsmodels.api as sm\n",
    "import matplotlib.pyplot as plt\n",
    "import pandas as pd\n",
    "import xarray as xr\n",
    "import geopandas as gpd\n",
    "import statsmodels.api as sm\n",
    "from statsmodels.stats.outliers_influence import variance_inflation_factor\n",
    "import matplotlib.patches as patches\n",
    "import sys\n",
    "import os\n",
    "sys.path.append('/home/climate/chaoz/code/utils/')\n",
    "from plot_utils import plot_settings"
   ]
  },
  {
   "cell_type": "code",
   "execution_count": 2,
   "metadata": {},
   "outputs": [],
   "source": [
    "os.chdir('/home/climate/chaoz/project/03Irr_Ts_CN/processed/')\n",
    "BGC = xr.open_dataset('bgc_terraclimate_Yr_CN_1km_2001_2020.nc')\n",
    "dLSTd = xr.open_dataset('delta_LSTday_Yr_CN_2001_2020.nc')\n",
    "dLSTn = xr.open_dataset('delta_LSTnight_Yr_CN_2001_2020.nc')\n",
    "dEVI  = xr.open_dataset('delta_EVI_Yr_CN_2001_2020.nc')\n",
    "\n",
    "shp_cn = gpd.read_file('../shapefile/ChinaAll.shp')\n",
    "shp_nanhai = gpd.read_file('../shapefile/Nanhai.shp')\n",
    "shp_climzone = gpd.read_file('../shapefile/ClimateZone_3.shp')"
   ]
  },
  {
   "cell_type": "code",
   "execution_count": 3,
   "metadata": {},
   "outputs": [],
   "source": [
    "def get_vif_only(iwu, pr, ta, sr, ws, devi, region):\n",
    "    df = pd.DataFrame({\n",
    "        'dIwu': iwu[region].to_list(),\n",
    "        'Pr': pr[region][2:].to_list(),\n",
    "        'Ta': ta[region][2:].to_list(),\n",
    "        'Sr': sr[region][2:].to_list(),\n",
    "        'Ws': ws[region][2:].to_list(),\n",
    "        'dEvi': devi[region][2:].to_list(),\n",
    "    })\n",
    "\n",
    "    # Add constant for intercept\n",
    "    x = sm.add_constant(df)\n",
    "    \n",
    "    # Compute VIF\n",
    "    vif_data = pd.DataFrame()\n",
    "    vif_data[\"variable\"] = x.columns\n",
    "    vif_data[\"VIF\"] = [variance_inflation_factor(x.values, i) for i in range(x.shape[1])]\n",
    "    \n",
    "    # Return as dictionary without constant\n",
    "    vif_dict = dict(zip(vif_data[\"variable\"], vif_data[\"VIF\"]))\n",
    "    vif_dict.pop('const', None)  # remove intercept if present\n",
    "\n",
    "    return vif_dict"
   ]
  },
  {
   "cell_type": "code",
   "execution_count": 4,
   "metadata": {},
   "outputs": [],
   "source": [
    "df_dLSTday   = pd.read_csv('regionmean_dLSTday_Yr.csv')\n",
    "df_dLSTnight = pd.read_csv('regionmean_dLSTnight_Yr.csv')\n",
    "df_IWU       = pd.read_csv('regionmean_IWU_Yr.csv')\n",
    "df_pr        = pd.read_csv('regionmean_pr.csv')\n",
    "df_sr        = pd.read_csv('regionmean_sr.csv')\n",
    "df_ta        = pd.read_csv('regionmean_ta.csv')\n",
    "df_ws        = pd.read_csv('regionmean_ws.csv')\n",
    "df_dEVI      = pd.read_csv('regionmean_dEVI.csv')"
   ]
  },
  {
   "cell_type": "code",
   "execution_count": 5,
   "metadata": {},
   "outputs": [],
   "source": [
    "'''\n",
    "Get the regional trend contributed by iwu, background climate, and evi\n",
    "'''\n",
    "regions=['China','Arid','Semi','Humid']\n",
    "vifList= [get_vif_only(df_IWU,df_pr,df_ta,df_sr,df_ws,df_dEVI,region) for region in regions]\n",
    "df_vif = pd.DataFrame(vifList)\n",
    "df_vif.index = regions\n",
    "df_vif = df_vif.T\n"
   ]
  },
  {
   "cell_type": "code",
   "execution_count": null,
   "metadata": {},
   "outputs": [],
   "source": [
    "colors = ['#87CEFA','#3CB371','#C1AB96','#F6CB60','#CAB2D6','#B2DF8A']\n",
    "\n",
    "def plot_bars(ax,mean,ylim,title,ylabel,legendFlag):\n",
    "    ax.set_ylim(ylim)\n",
    "    ax.bar(range(1,len(mean)+1),mean,color=colors)\n",
    "    ax.set_ylabel(ylabel)\n",
    "    ax.set_xticks([])\n",
    "    ax.set_title(title)\n",
    "    ax.spines['top'].set_visible(False)\n",
    "    ax.spines['right'].set_visible(False)\n",
    "    # Create custom legend handles\n",
    "    handles = [\n",
    "        patches.Patch(color=colors[0], label='IWU'),\n",
    "        patches.Patch(color=colors[1], label='Precipitation'),\n",
    "        patches.Patch(color=colors[2], label='Air temperature'),\n",
    "        patches.Patch(color=colors[3], label='Solar radiation'),\n",
    "        patches.Patch(color=colors[4], label='Wind speed'),\n",
    "        patches.Patch(color=colors[5], label='$\\Delta$EVI'),\n",
    "    ]\n",
    "    \n",
    "    # Add legend to the main plot\n",
    "    if legendFlag:\n",
    "        ax.legend(handles=handles, ncol=2, loc='best',frameon=False,\n",
    "                  columnspacing = 3)\n",
    "\n",
    "    return ax\n",
    "\n",
    "\n",
    "fig = plt.figure(figsize=(9,5))\n",
    "plot_settings()\n",
    "fig, axes = plt.subplots(nrows=2,ncols=2,figsize=(9,6),sharex=False)\n",
    "plot_settings()\n",
    "\n",
    "ylim = [0,10]\n",
    "ylabel='Variance Inflation factor'\n",
    "titles = ['China','Arid','Semi-arid/humid','Humid']\n",
    "plot_bars(axes[0,0],df_vif['China'],ylim,titles[0],ylabel,True)\n",
    "plot_bars(axes[0,1],df_vif['Arid'] ,ylim,titles[1],'',False)\n",
    "plot_bars(axes[1,0],df_vif['Semi'] ,ylim,titles[2],ylabel,False)\n",
    "plot_bars(axes[1,1],df_vif['Humid'],ylim,titles[3],'',False)\n",
    "\n",
    "plt.tight_layout()\n",
    "plt.savefig('../figures/Figure_S18.png',dpi=300)"
   ]
  }
 ],
 "metadata": {
  "kernelspec": {
   "display_name": "py39",
   "language": "python",
   "name": "python3"
  },
  "language_info": {
   "codemirror_mode": {
    "name": "ipython",
    "version": 3
   },
   "file_extension": ".py",
   "mimetype": "text/x-python",
   "name": "python",
   "nbconvert_exporter": "python",
   "pygments_lexer": "ipython3",
   "version": "3.10.16"
  }
 },
 "nbformat": 4,
 "nbformat_minor": 2
}
