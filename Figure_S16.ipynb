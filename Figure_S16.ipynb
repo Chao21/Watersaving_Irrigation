{
 "cells": [
  {
   "cell_type": "markdown",
   "metadata": {},
   "source": [
    "2025.05.12, Zhang Chao"
   ]
  },
  {
   "cell_type": "code",
   "execution_count": 1,
   "metadata": {},
   "outputs": [],
   "source": [
    "import numpy as np\n",
    "import xarray as xr\n",
    "import regionmask\n",
    "import geopandas as gpd\n",
    "import matplotlib.pyplot as plt\n",
    "import os\n",
    "import sys\n",
    "import scipy\n",
    "sys.path.append('/home/climate/chaoz/code/utils/')\n",
    "from plot_utils import plot_settings"
   ]
  },
  {
   "cell_type": "code",
   "execution_count": 2,
   "metadata": {},
   "outputs": [],
   "source": [
    "os.chdir('/home/climate/chaoz/project/03Irr_Ts_CN/processed/')\n",
    "dLE_PMLv2 = xr.open_dataset('delta_LE_PMLv2v017_Yr_CN_2001_2020.nc')\n",
    "dLE_MODIS = xr.open_dataset('delta_LE_MOD16A2GF_Yr_CN_2001_2020.nc')\n",
    "\n",
    "shp_climzone = gpd.read_file('../shapefile/ClimateZone_3.shp')"
   ]
  },
  {
   "cell_type": "code",
   "execution_count": 3,
   "metadata": {},
   "outputs": [],
   "source": [
    "def getSigFlag(p):\n",
    "    \"\"\"Get the significance sign (star)\n",
    "\n",
    "    Args:\n",
    "        p (float32): p-value\n",
    "\n",
    "    Returns:\n",
    "        str: significance sign\n",
    "    \"\"\"\n",
    "    strSig = ''\n",
    "    if p<0.05:\n",
    "        strSig = '**'\n",
    "    elif p<0.1:\n",
    "        strSig = '*'\n",
    "    else:\n",
    "        strSig = ''\n",
    "    return strSig\n",
    "    \n",
    "\n",
    "def stats_regionmean(ds,varname,shp):\n",
    "    \"\"\"Calculate the national and regional mean values\n",
    "\n",
    "    Args:\n",
    "        ds (xarray dataset): time-series dataset\n",
    "        varname (str): the variable name in the xarray dataset\n",
    "        shp (geo dataframe): shapefile loaded by geopandas.read_file()\n",
    "\n",
    "    Returns:\n",
    "        numpy.dataframe: time-series annual means for different regions\n",
    "    \"\"\"\n",
    "    # Calculate the national mean values\n",
    "    stat_cn = ds.mean(dim=('lat','lon'))[varname].values\n",
    "    \n",
    "    mask_region = regionmask.mask_geopandas(shp,ds.lon,ds.lat)\n",
    "    stat_region = ds.groupby(mask_region).mean().to_dataframe().reset_index()\n",
    "    \n",
    "    mask_mapping = {0.0:'Humid', 1.0:'Arid', 2.0:'Semi'}\n",
    "    stat_region['mask'] = stat_region['mask'].replace(mask_mapping)\n",
    "    \n",
    "    # Rearrange the dataframe by the different masks (regions)\n",
    "    pivoted_df = stat_region.pivot_table(index='time', columns='mask', values=varname).reset_index()\n",
    "    # Append the national mean values as a column 'China'\n",
    "    pivoted_df['China'] = stat_cn\n",
    "    \n",
    "    # Re-order the columns\n",
    "    pivoted_df = pivoted_df[['time','China','Arid','Semi','Humid']]\n",
    "    \n",
    "    return pivoted_df"
   ]
  },
  {
   "cell_type": "code",
   "execution_count": 4,
   "metadata": {},
   "outputs": [],
   "source": [
    "mask_region = regionmask.mask_geopandas(shp_climzone, dLE_PMLv2.lon, dLE_PMLv2.lat)"
   ]
  },
  {
   "cell_type": "code",
   "execution_count": 5,
   "metadata": {},
   "outputs": [],
   "source": [
    "ds=xr.Dataset(\n",
    "    {\n",
    "    'PMLv2':(['time','lat','lon'],dLE_PMLv2.LE.values),\n",
    "    'MODIS':(['time','lat','lon'],dLE_MODIS.LE.values)\n",
    "    },\n",
    "    coords={\n",
    "        'time':dLE_PMLv2.time,\n",
    "        'lat':dLE_PMLv2.lat,\n",
    "        'lon':dLE_PMLv2.lon\n",
    "    }\n",
    "    )"
   ]
  },
  {
   "cell_type": "code",
   "execution_count": 6,
   "metadata": {},
   "outputs": [],
   "source": [
    "ds_mean = ds.mean(dim='time')\n",
    "df_China = ds_mean.to_dataframe().reset_index().dropna().drop(columns=['lat','lon'])\n",
    "df_Arid  = ds_mean.where(mask_region==1).to_dataframe().reset_index().dropna().drop(columns=['lat','lon'])\n",
    "df_Semi  = ds_mean.where(mask_region==2).to_dataframe().reset_index().dropna().drop(columns=['lat','lon'])\n",
    "df_Humid = ds_mean.where(mask_region==0).to_dataframe().reset_index().dropna().drop(columns=['lat','lon'])"
   ]
  },
  {
   "cell_type": "code",
   "execution_count": 7,
   "metadata": {},
   "outputs": [],
   "source": [
    "def plot_curves(ax,y1,y2,ylim1):\n",
    "    colors = ['#2A557F', '#45BC9C', '#F05073']\n",
    "    x = range(0,y1.shape[0])\n",
    "    ax.plot(x,y1,color=colors[0])\n",
    "    parameter1 = np.polyfit(x, y1, 1)\n",
    "    f1 = np.poly1d(parameter1)\n",
    "    r1, sig1 = scipy.stats.pearsonr(x, y1)\n",
    "    ax.plot(x, f1(x), ls='--', c=colors[0])\n",
    "    \n",
    "    ax.plot(x,y2,color=colors[1])\n",
    "    parameter2 = np.polyfit(x, y2, 1)\n",
    "    f2 = np.poly1d(parameter1)\n",
    "    r2, sig2 = scipy.stats.pearsonr(x, y2)\n",
    "    ax.plot(x, f2(x), ls='--', c=colors[1])\n",
    "    \n",
    "    ax.text(0.10,0.90, \"slope = %.2f$^{%s}$\" %\n",
    "             (parameter1[0]*10, getSigFlag(sig1)),\n",
    "             transform=ax.transAxes, c= 'k',fontsize=12)\n",
    "    ax.spines['top'].set_visible(False)\n",
    "    ax.spines['right'].set_visible(False)\n",
    "    ax.set_xticks([4,14],['2005','2015'])\n",
    "    ax.set_ylim(ylim1)\n",
    "    \n",
    "    return ax\n",
    "\n",
    "def plot_scatter(ax,x,y,xlabel,ylabel,title):\n",
    "    ax.scatter(x,y,color='grey',alpha=0.3,s=0.8)\n",
    "    parameter = np.polyfit(x, y, 1)\n",
    "    f = np.poly1d(parameter)\n",
    "    r, sig = scipy.stats.pearsonr(x, y)\n",
    "    newx=np.linspace(np.min(x),np.max(x),20)\n",
    "    ax.plot(newx, f(newx), ls='--', c='k')\n",
    "    ax.text(0.10,0.9, \"R$^{2}$=%.2f$^{%s}$\" %\n",
    "             (r*r,getSigFlag(sig)),\n",
    "             transform=ax.transAxes, c= 'k',fontsize=12)\n",
    "    ax.spines['top'].set_visible(False)\n",
    "    ax.spines['right'].set_visible(False)\n",
    "    ax.set_xlabel(xlabel)\n",
    "    ax.set_ylabel(ylabel)\n",
    "    ax.set_title(title)\n",
    "    return ax"
   ]
  },
  {
   "cell_type": "code",
   "execution_count": null,
   "metadata": {},
   "outputs": [],
   "source": [
    "fig, axes = plt.subplots(nrows=1,ncols=4,figsize=(10,3),sharex=False)\n",
    "plot_settings()\n",
    "ylim1,ylim2 = [0,15],[-0.19,0.79]\n",
    "\n",
    "plot_scatter(axes[0],df_China['PMLv2'],df_China['MODIS'],'PMLv2 [W/m$^{2}$]','MODIS [W/m$^{2}$]','China')\n",
    "plot_scatter(axes[1],df_Arid['PMLv2'],df_Arid['MODIS']  ,'PMLv2 [W/m$^{2}$]','','Arid')\n",
    "plot_scatter(axes[2],df_Semi['PMLv2'],df_Semi['MODIS']  ,'PMLv2 [W/m$^{2}$]','','Semi-arid/humid')\n",
    "plot_scatter(axes[3],df_Humid['PMLv2'],df_Humid['MODIS'],'PMLv2 [W/m$^{2}$]','','Humid')\n",
    "\n",
    "\n",
    "plt.tight_layout()\n",
    "plt.savefig('../figures/Figure_S16.png',dpi=300)"
   ]
  }
 ],
 "metadata": {
  "kernelspec": {
   "display_name": "py39",
   "language": "python",
   "name": "python3"
  },
  "language_info": {
   "codemirror_mode": {
    "name": "ipython",
    "version": 3
   },
   "file_extension": ".py",
   "mimetype": "text/x-python",
   "name": "python",
   "nbconvert_exporter": "python",
   "pygments_lexer": "ipython3",
   "version": "3.10.16"
  }
 },
 "nbformat": 4,
 "nbformat_minor": 2
}
