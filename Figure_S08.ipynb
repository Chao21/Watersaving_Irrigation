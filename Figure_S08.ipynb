{
 "cells": [
  {
   "cell_type": "markdown",
   "metadata": {},
   "source": [
    "Zhang Chao, 2025.04.25<br>\n",
    "Three components of ET changes"
   ]
  },
  {
   "cell_type": "code",
   "execution_count": 1,
   "metadata": {},
   "outputs": [],
   "source": [
    "import pandas as pd\n",
    "import numpy as np\n",
    "import xarray as xr\n",
    "import regionmask\n",
    "import matplotlib.pyplot as plt\n",
    "import geopandas as gpd\n",
    "import os\n",
    "import sys\n",
    "import scipy\n",
    "from matplotlib.colors import Normalize\n",
    "import cartopy.io.shapereader as shpreader\n",
    "import matplotlib.colors as mcolors\n",
    "sys.path.append(os.path.abspath(os.path.join(os.getcwd(), '../../')))\n",
    "from utils import getSigFlag, stats_regionmean\n",
    "sys.path.append('/home/climate/chaoz/code/utils/')\n",
    "from plot_utils import plot_settings"
   ]
  },
  {
   "cell_type": "code",
   "execution_count": 2,
   "metadata": {},
   "outputs": [],
   "source": [
    "os.chdir('/home/climate/chaoz/project/03Irr_Ts_CN/processed/')\n",
    "\n",
    "dT_LE = xr.open_dataset('delta_LSTle_Yr_CN_2001_2020_PMLv2.nc')\n",
    "dT_HE = xr.open_dataset('delta_LSThe_Yr_CN_2001_2020_PMLv2.nc')\n",
    "dT_SW = xr.open_dataset('delta_LSTsw_Yr_CN_2001_2020_PMLv2.nc')\n",
    "\n",
    "shp_cn = gpd.read_file('../shapefile/ChinaAll.shp')\n",
    "shp_nanhai = gpd.read_file('../shapefile/Nanhai.shp')\n",
    "shp_climzone = gpd.read_file('../shapefile/ClimateZone_3.shp')"
   ]
  },
  {
   "cell_type": "code",
   "execution_count": 3,
   "metadata": {},
   "outputs": [],
   "source": [
    "df_dT_LE = stats_regionmean(dT_LE,'Ts',shp_climzone)\n",
    "df_dT_HE = stats_regionmean(dT_HE,'Ts',shp_climzone)\n",
    "df_dT_SW = stats_regionmean(dT_SW,'Ts',shp_climzone)"
   ]
  },
  {
   "cell_type": "code",
   "execution_count": 4,
   "metadata": {},
   "outputs": [],
   "source": [
    "def plot_curves(ax,y,color,xticklabels,title):\n",
    "    x = range(0,y.shape[0])\n",
    "    ax.plot(x,y,color=color)\n",
    "    parameter = np.polyfit(x, y, 1)\n",
    "    f = np.poly1d(parameter)\n",
    "    r, sig = scipy.stats.pearsonr(x, y)\n",
    "    ax.plot(x, f(x), ls='--', c=color)\n",
    "    ax.text(0.10,0.90, \"slope = %.2f$^{%s}$\" %\n",
    "             (parameter[0]*10, getSigFlag(sig)),\n",
    "             transform=ax.transAxes, c= 'k',fontsize=12)\n",
    "    ax.spines['top'].set_visible(False)\n",
    "    ax.spines['right'].set_visible(False)\n",
    "    ax.set_xticks([4,14],xticklabels)\n",
    "\n",
    "    ax.set_title(title)"
   ]
  },
  {
   "cell_type": "code",
   "execution_count": null,
   "metadata": {},
   "outputs": [],
   "source": [
    "fig, axes = plt.subplots(nrows=3,ncols=4,figsize=(10,5),sharex=True)\n",
    "plot_settings()\n",
    "x = range(0,df_dT_LE.shape[0])\n",
    "colors = ['#1a8076','#be7d27','k']\n",
    "titles =['China','Arid','Semi-arid/humid','Humid']\n",
    "titles2=['','','','']\n",
    "\n",
    "for i in range(4):\n",
    "    plot_curves(axes[0,i],df_dT_LE.iloc[:,i+1],colors[0],['',''],titles[i])\n",
    "    plot_curves(axes[1,i],df_dT_HE.iloc[:,i+1],colors[1],['',''],titles2[i])\n",
    "    plot_curves(axes[2,i],df_dT_SW.iloc[:,i+1],colors[2],['2005','2015'],titles2[i])\n",
    "\n",
    "axes[0,0].set_ylabel('$\\Delta$LST_LE [K]')\n",
    "axes[1,0].set_ylabel('$\\Delta$LST_HE [K]')\n",
    "axes[2,0].set_ylabel('$\\Delta$LST_SWo [K]')\n",
    "\n",
    "plt.tight_layout()\n",
    "plt.savefig('../figures/Figure_S08.png',dpi=300)"
   ]
  }
 ],
 "metadata": {
  "kernelspec": {
   "display_name": "py39",
   "language": "python",
   "name": "python3"
  },
  "language_info": {
   "codemirror_mode": {
    "name": "ipython",
    "version": 3
   },
   "file_extension": ".py",
   "mimetype": "text/x-python",
   "name": "python",
   "nbconvert_exporter": "python",
   "pygments_lexer": "ipython3",
   "version": "3.10.16"
  }
 },
 "nbformat": 4,
 "nbformat_minor": 2
}
